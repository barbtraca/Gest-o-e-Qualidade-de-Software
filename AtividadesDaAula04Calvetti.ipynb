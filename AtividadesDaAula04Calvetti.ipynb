{
  "nbformat": 4,
  "nbformat_minor": 0,
  "metadata": {
    "colab": {
      "provenance": []
    },
    "kernelspec": {
      "name": "python3",
      "display_name": "Python 3"
    },
    "language_info": {
      "name": "python"
    }
  },
  "cells": [
    {
      "cell_type": "code",
      "execution_count": 6,
      "metadata": {
        "id": "9jEJSsjJzTUk"
      },
      "outputs": [],
      "source": [
        "# =========================================================\n",
        "# ATIVIDADE 1\n",
        "# =========================================================\n",
        "\n",
        "# Implementação da função\n",
        "def maior(a, b):\n",
        "    return a if a >= b else b\n",
        "\n",
        "# Testes da Atividade 1\n",
        "def test_maior_numero_positivo():\n",
        "    assert maior(10, 5) == 10\n",
        "\n",
        "def test_maior_numero_negativo():\n",
        "    assert maior(-3, -7) == -3\n",
        "\n",
        "def test_maior_numeros_iguais():\n",
        "    assert maior(4, 4) == 4\n"
      ]
    },
    {
      "cell_type": "code",
      "source": [
        "# =========================================================\n",
        "# ATIVIDADE 2\n",
        "# =========================================================\n",
        "\n",
        "# Implementação da função\n",
        "def inverter_string(texto):\n",
        "    return texto[::-1]\n",
        "\n",
        "# Testes da Atividade 2\n",
        "def test_inverter_palavra_simples():\n",
        "    assert inverter_string(\"python\") == \"nohtyp\"\n",
        "\n",
        "def test_inverter_palavra_com_espacos():\n",
        "    assert inverter_string(\"abc def\") == \"fed cba\"\n",
        "\n",
        "def test_inverter_string_vazia():\n",
        "    assert inverter_string(\"\") == \"\""
      ],
      "metadata": {
        "id": "7XgJhHN4z7qS"
      },
      "execution_count": 7,
      "outputs": []
    },
    {
      "cell_type": "code",
      "source": [
        "# =========================================================\n",
        "# ATIVIDADE 3\n",
        "# =========================================================\n",
        "\n",
        "# Implementação da função\n",
        "def valida_cpf(cpf):\n",
        "    return cpf.isdigit() and len(cpf) == 11\n",
        "\n",
        "# Testes da Atividade 3\n",
        "def test_cpf_valido():\n",
        "    assert valida_cpf(\"12345678901\") == True\n",
        "\n",
        "def test_cpf_com_menos_digitos():\n",
        "    assert valida_cpf(\"12345\") == False\n",
        "\n",
        "def test_cpf_com_letras():\n",
        "    assert valida_cpf(\"12345678abc\") == False\n"
      ],
      "metadata": {
        "id": "BR4g5S6_z7xH"
      },
      "execution_count": 8,
      "outputs": []
    },
    {
      "cell_type": "code",
      "source": [
        "!pytest -v"
      ],
      "metadata": {
        "colab": {
          "base_uri": "https://localhost:8080/"
        },
        "id": "qVJ2gVBJz71O",
        "outputId": "26474723-a58f-47bd-da27-c2b483b816a4"
      },
      "execution_count": 5,
      "outputs": [
        {
          "output_type": "stream",
          "name": "stdout",
          "text": [
            "\u001b[1m============================= test session starts ==============================\u001b[0m\n",
            "platform linux -- Python 3.12.11, pytest-8.4.2, pluggy-1.6.0 -- /usr/bin/python3\n",
            "cachedir: .pytest_cache\n",
            "rootdir: /content\n",
            "plugins: typeguard-4.4.4, langsmith-0.4.27, anyio-4.10.0\n",
            "\u001b[1mcollecting ... \u001b[0m\u001b[1m\rcollected 0 items                                                              \u001b[0m\n",
            "\n",
            "\u001b[33m============================ \u001b[33mno tests ran\u001b[0m\u001b[33m in 0.01s\u001b[0m\u001b[33m =============================\u001b[0m\n"
          ]
        }
      ]
    }
  ]
}