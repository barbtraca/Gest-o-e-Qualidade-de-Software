{
  "nbformat": 4,
  "nbformat_minor": 0,
  "metadata": {
    "colab": {
      "provenance": []
    },
    "kernelspec": {
      "name": "python3",
      "display_name": "Python 3"
    },
    "language_info": {
      "name": "python"
    }
  },
  "cells": [
    {
      "cell_type": "code",
      "source": [
        "import unittest\n",
        "from unittest.mock import patch, MagicMock\n",
        "import requests"
      ],
      "metadata": {
        "id": "tTAOVnes-k65"
      },
      "execution_count": 4,
      "outputs": []
    },
    {
      "cell_type": "code",
      "source": [
        "# ------------------------\n",
        "# 1 - Função is_par\n",
        "# ------------------------\n",
        "def is_par(n: int) -> bool:\n",
        "    return n % 2 == 0\n",
        "\n",
        "class TestIsPar(unittest.TestCase):\n",
        "    def test_numeros(self):\n",
        "        self.assertTrue(is_par(2))     # par\n",
        "        self.assertFalse(is_par(3))    # ímpar\n",
        "        self.assertTrue(is_par(0))     # zero\n",
        "        self.assertTrue(is_par(-4))    # negativo par\n",
        "        self.assertFalse(is_par(-3))   # negativo ímpar"
      ],
      "metadata": {
        "id": "JjQseSTC-lEI"
      },
      "execution_count": 5,
      "outputs": []
    },
    {
      "cell_type": "code",
      "source": [
        "# ------------------------\n",
        "# 2 - Função fatorial\n",
        "# ------------------------\n",
        "def fatorial(n: int) -> int:\n",
        "    if n < 0:\n",
        "        raise ValueError(\"n deve ser >= 0\")\n",
        "    if n == 0:\n",
        "        return 1\n",
        "    resultado = 1\n",
        "    for i in range(1, n + 1):\n",
        "        resultado *= i\n",
        "    return resultado\n",
        "\n",
        "class TestFatorial(unittest.TestCase):\n",
        "    def test_fatorial(self):\n",
        "        self.assertEqual(fatorial(0), 1)      # caso base\n",
        "        self.assertEqual(fatorial(5), 120)    # valor conhecido\n",
        "        with self.assertRaises(ValueError):   # erro esperado\n",
        "            fatorial(-1)"
      ],
      "metadata": {
        "id": "opu1MpSG-lNQ"
      },
      "execution_count": 6,
      "outputs": []
    },
    {
      "cell_type": "code",
      "source": [
        "# ------------------------\n",
        "# 3 - Classe Conta\n",
        "# ------------------------\n",
        "class InsufficientFunds(Exception):\n",
        "    pass\n",
        "\n",
        "class Conta:\n",
        "    def __init__(self, saldo=0):\n",
        "        self.saldo = saldo\n",
        "\n",
        "    def depositar(self, amount):\n",
        "        if amount < 0:\n",
        "            raise ValueError(\"Depósito inválido\")\n",
        "        self.saldo += amount\n",
        "\n",
        "    def sacar(self, amount):\n",
        "        if amount < 0:\n",
        "            raise ValueError(\"Saque inválido\")\n",
        "        if amount > self.saldo:\n",
        "            raise InsufficientFunds(\"Saldo insuficiente\")\n",
        "        self.saldo -= amount\n",
        "\n",
        "class TestConta(unittest.TestCase):\n",
        "    def test_conta(self):\n",
        "        conta = Conta(100)\n",
        "        conta.depositar(50)\n",
        "        self.assertEqual(conta.saldo, 150)  # depósito ok\n",
        "\n",
        "        conta.sacar(30)\n",
        "        self.assertEqual(conta.saldo, 120)  # saque ok\n",
        "\n",
        "        with self.assertRaises(InsufficientFunds): # saldo insuficiente\n",
        "            conta.sacar(500)\n",
        "\n",
        "        with self.assertRaises(ValueError): # depósito inválido\n",
        "            conta.depositar(-10)\n",
        "\n",
        "        with self.assertRaises(ValueError): # saque inválido\n",
        "            conta.sacar(-5)"
      ],
      "metadata": {
        "id": "mYMwo2gq-lVl"
      },
      "execution_count": 7,
      "outputs": []
    },
    {
      "cell_type": "code",
      "source": [
        "\n",
        "# ------------------------\n",
        "# 4 - Função buscar_clima (mock requests)\n",
        "# ------------------------\n",
        "def buscar_clima(cidade: str):\n",
        "    try:\n",
        "        response = requests.get(f\"https://api.exemplo/clima?cidade={cidade}\")\n",
        "        data = response.json()\n",
        "        if \"temperatura\" not in data:\n",
        "            raise KeyError(\"Resposta sem temperatura\")\n",
        "        return data[\"temperatura\"]\n",
        "    except Exception as e:\n",
        "        return f\"Erro ao buscar clima: {e}\"\n",
        "\n",
        "class TestBuscarClima(unittest.TestCase):\n",
        "\n",
        "    @patch(\"requests.get\")\n",
        "    def test_sucesso(self, mock_get):\n",
        "        mock_response = MagicMock()\n",
        "        mock_response.json.return_value = {\"temperatura\": 25}\n",
        "        mock_get.return_value = mock_response\n",
        "\n",
        "        self.assertEqual(buscar_clima(\"São Paulo\"), 25)\n",
        "\n",
        "    @patch(\"requests.get\")\n",
        "    def test_sem_temperatura(self, mock_get):\n",
        "        mock_response = MagicMock()\n",
        "        mock_response.json.return_value = {\"umidade\": 80}\n",
        "        mock_get.return_value = mock_response\n",
        "\n",
        "        resultado = buscar_clima(\"São Paulo\")\n",
        "        self.assertIn(\"Erro\", resultado)\n",
        "\n",
        "    @patch(\"requests.get\")\n",
        "    def test_excecao(self, mock_get):\n",
        "        mock_get.side_effect = Exception(\"Falha na API\")\n",
        "\n",
        "        resultado = buscar_clima(\"São Paulo\")\n",
        "        self.assertIn(\"Erro\", resultado)"
      ],
      "metadata": {
        "id": "2e1oMcCc-x6z"
      },
      "execution_count": 8,
      "outputs": []
    },
    {
      "cell_type": "code",
      "source": [
        "# ------------------------\n",
        "# Rodar todos os testes\n",
        "# ------------------------\n",
        "if __name__ == \"__main__\":\n",
        "    unittest.main(argv=[''], exit=False)"
      ],
      "metadata": {
        "colab": {
          "base_uri": "https://localhost:8080/"
        },
        "id": "ZCWBuWcX-yWz",
        "outputId": "8741b8a0-32ea-4437-dedb-b28d1104bdaf"
      },
      "execution_count": 9,
      "outputs": [
        {
          "output_type": "stream",
          "name": "stderr",
          "text": [
            "............\n",
            "----------------------------------------------------------------------\n",
            "Ran 12 tests in 0.017s\n",
            "\n",
            "OK\n"
          ]
        }
      ]
    }
  ]
}